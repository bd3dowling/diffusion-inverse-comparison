{
 "cells": [
  {
   "cell_type": "code",
   "execution_count": null,
   "metadata": {},
   "outputs": [],
   "source": [
    "!rm -rf diffusion_inverse_comparison\n",
    "!git clone https://github.com/bd3dowling/diffusion-inverse-comparison\n",
    "!npm install localtunnel\n",
    "\n",
    "%cd diffusion_inverse_comparison\n",
    "%pip install -e . -q\n",
    "%cd .."
   ]
  },
  {
   "cell_type": "code",
   "execution_count": null,
   "metadata": {},
   "outputs": [],
   "source": [
    "import urllib\n",
    "print(\n",
    "    \"Password/Enpoint IP for localtunnel is:\",\n",
    "    urllib.request.urlopen('https://ipv4.icanhazip.com').read().decode('utf8').strip(\"\\n\"),\n",
    ")"
   ]
  },
  {
   "cell_type": "code",
   "execution_count": null,
   "metadata": {},
   "outputs": [],
   "source": [
    "!streamlit run /content/diffusion_inverse_comparison/app.py\n",
    "!npx localtunnel --port 8501"
   ]
  }
 ],
 "metadata": {
  "language_info": {
   "name": "python"
  }
 },
 "nbformat": 4,
 "nbformat_minor": 2
}
