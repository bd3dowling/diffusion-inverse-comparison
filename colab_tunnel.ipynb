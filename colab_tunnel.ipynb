{
  "cells": [
    {
      "cell_type": "markdown",
      "metadata": {
        "id": "view-in-github",
        "colab_type": "text"
      },
      "source": [
        "<a href=\"https://colab.research.google.com/github/bd3dowling/diffusion-inverse-comparison/blob/main/colab_tunnel.ipynb\" target=\"_parent\"><img src=\"https://colab.research.google.com/assets/colab-badge.svg\" alt=\"Open In Colab\"/></a>"
      ]
    },
    {
      "cell_type": "code",
      "execution_count": null,
      "metadata": {
        "id": "inX6B13UnQxx"
      },
      "outputs": [],
      "source": [
        "# Download and install dashboard and its dependencies\n",
        "!rm -rf diffusion-inverse-comparison\n",
        "!git clone https://github.com/bd3dowling/diffusion-inverse-comparison\n",
        "%cd diffusion-inverse-comparison\n",
        "%pip install -e . -q\n",
        "\n",
        "# Download FFHQ checkpoint\n",
        "!gdown 1BGwhRWUoguF-D8wlZ65tf227gp3cDUDh -O ./data/models/ffhq_10m.pt\n",
        "\n",
        "%cd ..\n",
        "\n",
        "# Install localtunnel for connecting to dashboard\n",
        "!npm install localtunnel"
      ]
    },
    {
      "cell_type": "code",
      "execution_count": null,
      "metadata": {
        "id": "mqDBNhDxnQxy"
      },
      "outputs": [],
      "source": [
        "import urllib\n",
        "print(\n",
        "    \"Password/Enpoint IP for localtunnel is:\",\n",
        "    urllib.request.urlopen('https://ipv4.icanhazip.com').read().decode('utf8').strip(\"\\n\"),\n",
        ")"
      ]
    },
    {
      "cell_type": "code",
      "source": [
        "# Launch app\n",
        "!streamlit run ./diffusion-inverse-comparison/app.py & npx localtunnel --port 8501"
      ],
      "metadata": {
        "id": "bHPVawyLzsHL"
      },
      "execution_count": null,
      "outputs": []
    }
  ],
  "metadata": {
    "language_info": {
      "name": "python"
    },
    "colab": {
      "provenance": [],
      "gpuType": "T4",
      "include_colab_link": true
    },
    "kernelspec": {
      "name": "python3",
      "display_name": "Python 3"
    },
    "accelerator": "GPU"
  },
  "nbformat": 4,
  "nbformat_minor": 0
}